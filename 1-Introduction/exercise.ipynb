{
 "cells": [
  {
   "cell_type": "markdown",
   "metadata": {},
   "source": [
    "## import transformers and create the model and tokenizers"
   ]
  },
  {
   "cell_type": "code",
   "execution_count": null,
   "metadata": {},
   "outputs": [],
   "source": [
    "from transformers import AutoModelForCausalLM, AutoTokenizer\n",
    "\n",
    "# Load pretrained model and tokenizer\n",
    "tokenizer = AutoTokenizer.from_pretrained(\"gpt2\")\n",
    "model = AutoModelForCausalLM.from_pretrained(\"gpt2\")\n",
    "\n",
    "\n",
    "\n",
    "# Create a partial sentence and tokenize it\n",
    "\n",
    "text = \"Madrid es una ciudad maravillosa y\"\n",
    "inputs = tokenizer(text,return_tensors=\"pt\")\n",
    "\n",
    "# show tokens as numbers\n",
    "inputs[\"input_ids\"]"
   ]
  },
  {
   "cell_type": "markdown",
   "metadata": {},
   "source": [
    "### Check the tokenization\n",
    "\n"
   ]
  },
  {
   "cell_type": "code",
   "execution_count": null,
   "metadata": {},
   "outputs": [],
   "source": [
    "import pandas as pd\n",
    "\n",
    "def show_tokenization(inputs):\n",
    "    return pd.DataFrame([(id,tokenizer.decode(id)) for id in inputs[\"input_ids\"][0]],\n",
    "        columns=[\"id\",\"token\"],\n",
    "    )\n",
    "show_tokenization(inputs)"
   ]
  },
  {
   "cell_type": "markdown",
   "metadata": {},
   "source": [
    "## now we copute the probability of the neext token"
   ]
  },
  {
   "cell_type": "code",
   "execution_count": null,
   "metadata": {},
   "outputs": [],
   "source": [
    "import torch\n",
    "\n",
    "# torch.no_grad() -> disables gradient computation during inference\n",
    "# this reuce the memory ussage and speed up execution\n",
    "with torch.no_grad():\n",
    "    # **inputs unpacks dictionary formatted model inputd\n",
    "    # slicing [:.-1,:] extracts last token logits from sequence output\n",
    "    logits = model(**inputs).logits[:,-1,:]\n",
    "    probabilities = torch.nn.functional.softmax(logits[0],dim=-1)\n",
    "\n",
    "def show_next_token_choices(probabilities,top_n=5):\n",
    "    \n",
    "  \n",
    "    return pd.DataFrame(\n",
    "        [(id,tokenizer.decode(id),p.item()) for id,p in enumerate(probabilities) if p.item()],columns=[\"id\",\"token\",\"p\"],).sort_values(\"p\",ascending=False)[:top_n]\n",
    "\n",
    "show_next_token_choices(probabilities)"
   ]
  }
 ],
 "metadata": {
  "kernelspec": {
   "display_name": "genAI",
   "language": "python",
   "name": "python3"
  },
  "language_info": {
   "codemirror_mode": {
    "name": "ipython",
    "version": 3
   },
   "file_extension": ".py",
   "mimetype": "text/x-python",
   "name": "python",
   "nbconvert_exporter": "python",
   "pygments_lexer": "ipython3",
   "version": "3.12.9"
  }
 },
 "nbformat": 4,
 "nbformat_minor": 2
}
