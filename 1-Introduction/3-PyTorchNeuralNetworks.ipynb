{
 "cells": [
  {
   "cell_type": "markdown",
   "metadata": {},
   "source": [
    "## PyTorch Neural Networks\n",
    "\n",
    "Nota: A multi layer perceptron is composed of layers.\n",
    "\n",
    "There is a layer for receiving inputs, a layer for providing the output (with number of perceotron equal to number of classes to discriminated)\n",
    "And hidden layers in the middle.\n",
    "\n"
   ]
  },
  {
   "cell_type": "code",
   "execution_count": 5,
   "metadata": {},
   "outputs": [
    {
     "name": "stdout",
     "output_type": "stream",
     "text": [
      "MLP(\n",
      "  (hidden_layer): Linear(in_features=10, out_features=64, bias=True)\n",
      "  (output_layer): Linear(in_features=64, out_features=2, bias=True)\n",
      "  (activation): ReLU()\n",
      ")\n"
     ]
    },
    {
     "data": {
      "text/plain": [
       "tensor([ 0.0821, -0.0602], grad_fn=<ViewBackward0>)"
      ]
     },
     "execution_count": 5,
     "metadata": {},
     "output_type": "execute_result"
    }
   ],
   "source": [
    "# We will do first a MLP with only one hidden layer\n",
    "import torch\n",
    "import torch.nn as nn\n",
    "\n",
    "# torch.nn is the core neural network library.\n",
    "\n",
    "class MLP(nn.Module):\n",
    "    def __init__(self, input_size):\n",
    "        super(MLP,self).__init__() # This is Python OOP. MEans basically -> \"look for methods in the parent class of MLP \"\n",
    "                                   # In Python3 we could write super().__init__() \n",
    "        self.hidden_layer = nn.Linear(input_size,64) \n",
    "        #create a fully connected neural network layer with input dimension (features per data sample) and output dimension (number of neuros in this hidden layer)\n",
    "        self.output_layer = nn.Linear(64,2)\n",
    "        # final transformation in a neural network. Maps 64 dimensional hidden layer output -> 2 dimensional predictions\n",
    "        self.activation = nn.ReLU() # we define an activation function\n",
    "\n",
    "\n",
    "    # how are components connected to each other\n",
    "    def forward(self,x):\n",
    "        # input x is first passed through the hidden layer and then through the activation function\n",
    "        x = self.activation(self.hidden_layer(x))\n",
    "        # then the result is passed through the output layer\n",
    "        return self.output_layer(x)\n",
    "\n",
    "\n",
    "\n",
    "#instanciate the multilayer perceptron\n",
    "model = MLP(input_size=10)\n",
    "print(model) # to review sized of our model\n",
    "\n",
    "#test\n",
    "model.forward(torch.rand(10))\n",
    "\n",
    "\n"
   ]
  },
  {
   "cell_type": "code",
   "execution_count": null,
   "metadata": {},
   "outputs": [],
   "source": [
    "\n"
   ]
  }
 ],
 "metadata": {
  "kernelspec": {
   "display_name": "genAI",
   "language": "python",
   "name": "python3"
  },
  "language_info": {
   "codemirror_mode": {
    "name": "ipython",
    "version": 3
   },
   "file_extension": ".py",
   "mimetype": "text/x-python",
   "name": "python",
   "nbconvert_exporter": "python",
   "pygments_lexer": "ipython3",
   "version": "3.12.9"
  }
 },
 "nbformat": 4,
 "nbformat_minor": 2
}
